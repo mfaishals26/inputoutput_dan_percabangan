{
 "cells": [
  {
   "cell_type": "code",
   "execution_count": 1,
   "id": "7114c523",
   "metadata": {},
   "outputs": [
    {
     "name": "stdout",
     "output_type": "stream",
     "text": [
      "isikan nama awalmuhammad\n",
      "isikan nama tengahfaishal\n",
      "isikan nama akhirsetiawan\n",
      "selamat datang muhammad faishal setiawan S.kom\n"
     ]
    }
   ],
   "source": [
    "fname = input('isikan nama awal')\n",
    "mname = input('isikan nama tengah')\n",
    "lname = input('isikan nama akhir')\n",
    "\n",
    "print('selamat datang',fname,mname,lname,\"S.kom\")"
   ]
  },
  {
   "cell_type": "code",
   "execution_count": 7,
   "id": "512d22ca",
   "metadata": {},
   "outputs": [
    {
     "name": "stdout",
     "output_type": "stream",
     "text": [
      "isikan bilangan 1 : 2\n",
      "isikan bilangan 2 :3\n",
      "<class 'str'>\n",
      "hasil perjumlahan 5\n"
     ]
    }
   ],
   "source": [
    "bil1 = input('isikan bilangan 1 : ')\n",
    "bil2 = input('isikan bilangan 2 :')\n",
    "print(type(bil1))\n",
    "hasil = int(bil1) + int(bil2)\n",
    "\n",
    "print ('hasil perjumlahan', hasil)\n"
   ]
  },
  {
   "cell_type": "code",
   "execution_count": 10,
   "id": "c0b65de2",
   "metadata": {},
   "outputs": [
    {
     "name": "stdout",
     "output_type": "stream",
     "text": [
      "isikan panjang persegi : 4\n",
      "isikan luas :5\n",
      "luas persegi panjang 20\n",
      "keliling persegi panjang 40\n"
     ]
    }
   ],
   "source": [
    "p = input('isikan panjang persegi : ')\n",
    "l = input('isikan luas :')\n",
    "\n",
    "luas = int(p) * int(l)\n",
    "keliling = 2 * (int(p) * int(l))\n",
    "print ('luas persegi panjang', luas )\n",
    "print ('keliling persegi panjang', keliling )"
   ]
  },
  {
   "cell_type": "code",
   "execution_count": 11,
   "id": "10bf0d32",
   "metadata": {},
   "outputs": [
    {
     "name": "stdout",
     "output_type": "stream",
     "text": [
      "januari#febuari#maret#april\n"
     ]
    }
   ],
   "source": [
    "print (\"januari\", \"febuari\" , \"maret\" , \"april\", sep=\"#\" )"
   ]
  },
  {
   "cell_type": "code",
   "execution_count": 5,
   "id": "d44c76a7",
   "metadata": {
    "scrolled": false
   },
   "outputs": [
    {
     "name": "stdout",
     "output_type": "stream",
     "text": [
      "senin@selasa@rabu@kamis@jumat@sabtu@minggu>_<one\n",
      "two\n",
      "three\n",
      "four\n"
     ]
    }
   ],
   "source": [
    "print (\"senin\", \"selasa\" , \"rabu\" , \"kamis\", \"jumat\" , \"sabtu\" , \"minggu\" , sep=\"@\", end = \">_<\" )\n",
    "print (\"one\", \"two\" , \"three\" , \"four\" , sep = \"\\n\")"
   ]
  },
  {
   "cell_type": "code",
   "execution_count": 8,
   "id": "4aa7f79b",
   "metadata": {},
   "outputs": [
    {
     "name": "stdout",
     "output_type": "stream",
     "text": [
      "perkalian 7 dengan 10 adalah 70\n"
     ]
    }
   ],
   "source": [
    "number1 = 7\n",
    "number2 = 10\n",
    "#hasil perkalian 7 dengan 10 adalah 70\n",
    "print(\"perkalian {} dengan {} adalah {}\".format(number1 , number2, number1 * number2))"
   ]
  },
  {
   "cell_type": "code",
   "execution_count": 3,
   "id": "0cc84096",
   "metadata": {},
   "outputs": [
    {
     "name": "stdout",
     "output_type": "stream",
     "text": [
      "urutan huruf BAB\n"
     ]
    }
   ],
   "source": [
    "first_letter = \"A\"\n",
    "middle_letter = \"B\"\n",
    "last_letter = \"C\"\n",
    "\n",
    "print(\"urutan huruf {1}{0}{1}\" .format(first_letter,middle_letter,last_letter))"
   ]
  },
  {
   "cell_type": "code",
   "execution_count": 5,
   "id": "f248855b",
   "metadata": {},
   "outputs": [
    {
     "name": "stdout",
     "output_type": "stream",
     "text": [
      "sekarang tanggal 20 bulan maret tahun 2024\n"
     ]
    }
   ],
   "source": [
    "# sekarang tanggal 20 bulan maret tahun 2024\n",
    "print (\"sekarang tanggal {tanggal} bulan {bulan} tahun {tahun}\".format (tanggal = 20,bulan= \"maret\",tahun =2024))"
   ]
  },
  {
   "cell_type": "code",
   "execution_count": 20,
   "id": "e0daa50e",
   "metadata": {},
   "outputs": [
    {
     "name": "stdout",
     "output_type": "stream",
     "text": [
      "huruf pertama adalah : u\n",
      "huruf terakhir adalah :  a\n",
      "huruf range 0 - 10 : universitas\n",
      "putra\n",
      "nusa putra\n",
      "artup asun satisrevinu\n"
     ]
    }
   ],
   "source": [
    "kampus = \"universitas nusa putra\"\n",
    "print(\"huruf pertama adalah :\" , kampus[0])\n",
    "print (\"huruf terakhir adalah : \", kampus [-1])\n",
    "print(\"huruf range 0 - 10 :\",kampus [0:11])\n",
    "print(kampus[-5:])\n",
    "print(kampus[12:])\n",
    "\n",
    "#reverse string\n",
    "print(kampus[::-1])"
   ]
  },
  {
   "cell_type": "code",
   "execution_count": 29,
   "id": "2cc03072",
   "metadata": {},
   "outputs": [
    {
     "name": "stdout",
     "output_type": "stream",
     "text": [
      "['jakarta', 'sukabumi', 'malang', 'bandung', 'surabaya']\n",
      "jakarta-sukabumi-malang-bandung-surabaya\n"
     ]
    }
   ],
   "source": [
    "#split => string -> list\n",
    "kota = \"jakarta sukabumi malang bandung surabaya\"\n",
    "list_kota = kota.split ()\n",
    "print(list_kota)\n",
    "\n",
    "#join => list -> string\n",
    "\n",
    "join_kota = \"-\".join (list_kota)\n",
    "print(join_kota)\n"
   ]
  },
  {
   "cell_type": "code",
   "execution_count": 4,
   "id": "ed6b9071",
   "metadata": {},
   "outputs": [
    {
     "name": "stdout",
     "output_type": "stream",
     "text": [
      "isikan nama andaBILL GATES\n",
      "isikan tanggal lahir12/08/2022\n",
      "Nama Awal: BILL\n",
      "Nama Akhir: GATES\n",
      "bulan lahir: Agustus\n",
      "tanggal lahir: 12\n",
      "tahun lahir: 2022\n",
      "nama inisial: BG\n"
     ]
    }
   ],
   "source": [
    "# isikan nama anda : bill gates\n",
    "# isikan tanggal lahir : 18/12/2022\n",
    "# output :\n",
    "# nama awal : bill gates\n",
    "# tanggal lahir : 18\n",
    "# bulan lahir : 12\n",
    "# tahun lahir : 2022\n",
    "# nama inisial : BG\n",
    "\n",
    "nama = input('isikan nama anda')\n",
    "tanggal = input('isikan tanggal lahir')\n",
    "\n",
    "list_nama = (nama.split())\n",
    "print(\"Nama Awal:\",list_nama[0])\n",
    "print(\"Nama Akhir:\",list_nama[1])\n",
    "\n",
    "list_tanggal = tanggal.split(\"/\")\n",
    "if list_tanggal[1]==\"01\":\n",
    "    keterangan = \"Januari\"\n",
    "elif list_tanggal[1]==\"02\":\n",
    "    keterangan = \"Februari\"\n",
    "elif list_tanggal[1]==\"03\":\n",
    "    keterangan = \"Maret\"\n",
    "elif list_tanggal[1]==\"04\":\n",
    "    keterangan = \"April\"\n",
    "elif list_tanggal[1]==\"05\":\n",
    "    keterangan = \"Mei\"\n",
    "elif list_tanggal[1]==\"06\":\n",
    "    keterangan = \"Juni\"\n",
    "elif list_tanggal[1]==\"07\":\n",
    "    keterangan = \"Juli\"\n",
    "elif list_tanggal[1]==\"08\":\n",
    "    keterangan = \"Agustus\"\n",
    "elif list_tanggal[1]==\"09\":\n",
    "    Keterangan = \"September\"\n",
    "elif list_tanggal[1]==\"10\":\n",
    "    Keterangan =\"Oktober\"\n",
    "elif list_tanggal[1]==\"11\":\n",
    "    Keterangan =\"November\"\n",
    "elif list_tanggal[1]==\"12\":\n",
    "    Keterangan =\"Desember\"\n",
    "\n",
    "print(\"bulan lahir:\", keterangan)\n",
    "print(\"tanggal lahir:\", list_tanggal[0])\n",
    "print(\"tahun lahir:\", list_tanggal[2])\n",
    "\n",
    "inisial = list_nama[0][0] + list_nama[1][0]\n",
    "print(\"nama inisial:\", inisial)\n",
    "\n"
   ]
  },
  {
   "cell_type": "code",
   "execution_count": null,
   "id": "50cb26d6",
   "metadata": {},
   "outputs": [],
   "source": []
  },
  {
   "cell_type": "code",
   "execution_count": null,
   "id": "9335aaa4",
   "metadata": {},
   "outputs": [],
   "source": []
  }
 ],
 "metadata": {
  "kernelspec": {
   "display_name": "Python 3 (ipykernel)",
   "language": "python",
   "name": "python3"
  },
  "language_info": {
   "codemirror_mode": {
    "name": "ipython",
    "version": 3
   },
   "file_extension": ".py",
   "mimetype": "text/x-python",
   "name": "python",
   "nbconvert_exporter": "python",
   "pygments_lexer": "ipython3",
   "version": "3.9.12"
  }
 },
 "nbformat": 4,
 "nbformat_minor": 5
}
