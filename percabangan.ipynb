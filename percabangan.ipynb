{
 "cells": [
  {
   "cell_type": "code",
   "execution_count": 6,
   "id": "ce6d95b5",
   "metadata": {},
   "outputs": [
    {
     "name": "stdout",
     "output_type": "stream",
     "text": [
      "isikan bilangan: 4\n",
      "4 adalah bilangan genap\n"
     ]
    }
   ],
   "source": [
    "nilai = int(input('isikan bilangan: '))\n",
    "sisa_bagi = nilai %2\n",
    "\n",
    "if sisa_bagi == 0:\n",
    "    print(nilai,\"adalah bilangan genap\")\n",
    "\n",
    "else:\n",
    "    print(f\"{nilai} adalah bilangan ganjil\")"
   ]
  },
  {
   "cell_type": "code",
   "execution_count": 12,
   "id": "cc1fa20f",
   "metadata": {},
   "outputs": [
    {
     "name": "stdout",
     "output_type": "stream",
     "text": [
      "isikan nilai pemprograman mahasiswa: 49\n",
      "nilai huruf mahasiswa e\n"
     ]
    }
   ],
   "source": [
    "#0 - 49 => E\n",
    "#50 - 59 => D\n",
    "#60 - 69 => c\n",
    "#70 - 84 => B\n",
    "# 85 - 100 => A\n",
    "\n",
    "nilai_mhs = int(input('isikan nilai pemprograman mahasiswa: '))\n",
    "keterangan = \"input salah\"\n",
    "\n",
    "if nilai_mhs >=0 and nilai_mhs <50:\n",
    "    keterangan = \"e\"\n",
    "elif nilai_mhs >=50 and nilai_mhs <59:\n",
    "    keterangan = \"d\"\n",
    "elif nilai_mhs >=60 and nilai_mhs <69:\n",
    "    keterangan = \"c\"\n",
    "elif nilai_mhs >=70 and nilai_mhs <84:\n",
    "    keterangan = \"b\"\n",
    "elif nilai_mhs >=85 and nilai_mhs <100:\n",
    "    keterangan = \"a\"\n",
    "print(\"nilai huruf mahasiswa\" , keterangan)\n",
    "    "
   ]
  },
  {
   "cell_type": "code",
   "execution_count": null,
   "id": "404e76cc",
   "metadata": {},
   "outputs": [],
   "source": []
  },
  {
   "cell_type": "code",
   "execution_count": null,
   "id": "e9657a3c",
   "metadata": {},
   "outputs": [],
   "source": []
  },
  {
   "cell_type": "code",
   "execution_count": null,
   "id": "e0d4ef4d",
   "metadata": {},
   "outputs": [],
   "source": []
  },
  {
   "cell_type": "code",
   "execution_count": null,
   "id": "fc51e956",
   "metadata": {},
   "outputs": [],
   "source": []
  }
 ],
 "metadata": {
  "kernelspec": {
   "display_name": "Python 3 (ipykernel)",
   "language": "python",
   "name": "python3"
  },
  "language_info": {
   "codemirror_mode": {
    "name": "ipython",
    "version": 3
   },
   "file_extension": ".py",
   "mimetype": "text/x-python",
   "name": "python",
   "nbconvert_exporter": "python",
   "pygments_lexer": "ipython3",
   "version": "3.9.12"
  }
 },
 "nbformat": 4,
 "nbformat_minor": 5
}
